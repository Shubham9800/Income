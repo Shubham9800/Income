{
 "cells": [
  {
   "cell_type": "code",
   "execution_count": 3,
   "id": "50d45e12",
   "metadata": {
    "ExecuteTime": {
     "end_time": "2022-05-18T15:26:15.562542Z",
     "start_time": "2022-05-18T15:26:04.485970Z"
    }
   },
   "outputs": [
    {
     "name": "stdout",
     "output_type": "stream",
     "text": [
      "10000000\n",
      "Your income tax slabe is 30 % and approx tax amount would be 3000000.0\n",
      "Would you like to donate to a good cause?, Yes Or No\n",
      "yes\n",
      "Please an enter amount\n",
      "10000\n",
      "Thank you for Helping!! :)\n",
      "I have a surprise for you, Are you ready for a pleasant surprise? Type Yes or No\n",
      "yes\n",
      "Your income tax slabe is 30 % and approx tax amount would be 2997000.0\n"
     ]
    }
   ],
   "source": [
    "income=int(input())\n",
    "tax_slabs={'slab1':\"No Tax !!, Woohoo!!\",'slab2':5,'slab3':10,'slab4':15,'slab5':20,'slab6':25,'slab7':30}\n",
    "\n",
    "if income <=250000:\n",
    "    print('You wont  have to pay Tax!! Because your income is < 250000')\n",
    "elif (income >= 250001) and  (income <= 500000):\n",
    "    print('Your income tax slabe is {} % and approx tax amount would be {}' .format(tax_slabs['slab2'],(tax_slabs['slab2']*income)/100))\n",
    "elif (income >= 500001) and ( income <= 750000):\n",
    "    print(\"Your income tax slabe is {} % and approx tax amount would be {}\" .format(tax_slabs['slab3'],(tax_slabs['slab3']*income)/100))\n",
    "elif (income >= 750001) and (income <= 1000000):\n",
    "    print(\"Your income tax slabe is {} % and apporx tax amount would be {}\" .format(tax_slabs['slab4'],(tax_slabs['slab4']*income)/100))\n",
    "elif (income >= 1000000) and (income <= 1250000):\n",
    "    print(\"Your income tax slabe is {} % and approx tax amount would be {}\" .format(tax_slabs['slab5'],(tax_slabs['slab5']*income)/100))\n",
    "elif (income >= 1250000) and (income <= 1500000):\n",
    "    print(\"Your income tax slabe is {} % and approx tax amount would be {}\" .format(tax_slabs['slab6'],(tax_slabs['slab6']*income)/100))\n",
    "elif (income > 1500000):\n",
    "    print(\"Your income tax slabe is {} % and approx tax amount would be {}\" .format(tax_slabs['slab7'],(tax_slabs['slab7']*income)/100))\n",
    "    \n",
    "print(\"Would you like to donate to a good cause?, Yes Or No\")\n",
    "charity=str(input())\n",
    "if charity == str(\"Yes\") or charity == str(\"yes\"):\n",
    "    print('Please an enter amount')\n",
    "    charity_amount=int(input())\n",
    "    print(\"Thank you for Helping!! :)\")\n",
    "\n",
    "    print(\"I have a surprise for you, Are you ready for a pleasant surprise? Type Yes or No\"  )\n",
    "    surprise=str(input())\n",
    "    Calculate_income_after_charity=income-charity_amount\n",
    "    tax_amt = []\n",
    "    if surprise == (\"yes\") or surprise == (\"Yes\"):\n",
    "        if Calculate_income_after_charity <=250000:\n",
    "            print('You wont  have to pay Tax!! Because your income is < 250000')\n",
    "            tax_amt = (tax_slabs['slab2']*Calculate_income_after_charity)/100\n",
    "        elif (Calculate_income_after_charity >= 250001) and  (Calculate_income_after_charity <= 500000):\n",
    "            print('Your income Tax slabe is {} % and approx tax amount would be {}' .format (tax_slabs['slab2'],(tax_slabs['slab2']*Calculate_income_after_charity)/100))\n",
    "        elif (Calculate_income_after_charity >= 500001) and ( Calculate_income_after_charity <= 750000):\n",
    "            print(\"Your income Tax slabe is {} % and approx tax amount would be {}\" . format(tax_slabs['slab3'],(tax_slabs['slab3']*Calculate_income_after_charity)/100))\n",
    "        elif (Calculate_income_after_charity >= 750001) and (Calculate_income_after_charity <= 1000000):\n",
    "            print(\"Your income Tax slabe is {} % and apporx tax amount would be {}\" . format(tax_slabs['slab4'],(tax_slabs['slab4']*Calculate_income_after_charity)/100))\n",
    "        elif (Calculate_income_after_charity >= 1000000) and (Calculate_income_after_charity <= 1250000):\n",
    "            print(\"Your income tax slabe is {} % and approx tax amount would be {}\" . format(tax_slabs['slab5'],(tax_slabs['slab5']*Calculate_income_after_charity)/100))\n",
    "        elif (Calculate_income_after_charity >= 1250000) and (Calculate_income_after_charity <= 1500000):\n",
    "            print(\"Your income Tax slabe is {} % and approx tax amount would be {}\" . format(tax_slabs['slab6'],(tax_slabs['slab6']*Calculate_income_after_charity)/100))\n",
    "        elif (Calculate_income_after_charity > 1500000):\n",
    "            print(\"Your income tax slabe is {} % and approx tax amount would be {}\". format(tax_slabs['slab7'],(tax_slabs['slab7']*Calculate_income_after_charity)/100))\n",
    "        else:\n",
    "            print(\"It's Ok\")\n",
    "    else:\n",
    "        print(\"It's Ok\")\n",
    "elif charity == str(\"No\") or charity == str(\"no\"):\n",
    "    print(\"No need, Thanks\")\n",
    "else:\n",
    "    print(\"Thanks\")      \n",
    "\n",
    "   \n"
   ]
  },
  {
   "cell_type": "code",
   "execution_count": null,
   "id": "7b810755",
   "metadata": {},
   "outputs": [],
   "source": []
  }
 ],
 "metadata": {
  "kernelspec": {
   "display_name": "Python 3 (ipykernel)",
   "language": "python",
   "name": "python3"
  },
  "language_info": {
   "codemirror_mode": {
    "name": "ipython",
    "version": 3
   },
   "file_extension": ".py",
   "mimetype": "text/x-python",
   "name": "python",
   "nbconvert_exporter": "python",
   "pygments_lexer": "ipython3",
   "version": "3.9.7"
  },
  "toc": {
   "base_numbering": 1,
   "nav_menu": {},
   "number_sections": true,
   "sideBar": true,
   "skip_h1_title": false,
   "title_cell": "Table of Contents",
   "title_sidebar": "Contents",
   "toc_cell": false,
   "toc_position": {},
   "toc_section_display": true,
   "toc_window_display": false
  },
  "varInspector": {
   "cols": {
    "lenName": 16,
    "lenType": 16,
    "lenVar": 40
   },
   "kernels_config": {
    "python": {
     "delete_cmd_postfix": "",
     "delete_cmd_prefix": "del ",
     "library": "var_list.py",
     "varRefreshCmd": "print(var_dic_list())"
    },
    "r": {
     "delete_cmd_postfix": ") ",
     "delete_cmd_prefix": "rm(",
     "library": "var_list.r",
     "varRefreshCmd": "cat(var_dic_list()) "
    }
   },
   "types_to_exclude": [
    "module",
    "function",
    "builtin_function_or_method",
    "instance",
    "_Feature"
   ],
   "window_display": false
  }
 },
 "nbformat": 4,
 "nbformat_minor": 5
}
